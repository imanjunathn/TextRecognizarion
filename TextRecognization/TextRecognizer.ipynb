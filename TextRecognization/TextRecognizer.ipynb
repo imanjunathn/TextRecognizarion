{
 "cells": [
  {
   "cell_type": "code",
   "execution_count": 576,
   "metadata": {},
   "outputs": [],
   "source": [
    "import pandas as pd\n",
    "import numpy as np\n",
    "import os\n",
    "import cv2\n",
    "import matplotlib.pyplot as plt\n",
    "import matplotlib.patches as patches\n",
    "%matplotlib inline"
   ]
  },
  {
   "cell_type": "code",
   "execution_count": 471,
   "metadata": {},
   "outputs": [
    {
     "name": "stdout",
     "output_type": "stream",
     "text": [
      "/Users/developementkaha/Documents/Backup_office/Projects/ML/Personal_Practice/TextRecognization\n"
     ]
    }
   ],
   "source": [
    "cwd = os.getcwd()\n",
    "print(cwd)\n",
    "imageFolderPath = 'data/actualData/images/train'\n",
    "test_imageFolderPath = 'data/actualData/images/test'\n",
    "labeldCsvFilePath = os.path.join(cwd,'data/actualData/train_labels.csv')\n",
    "test_labeldCsvFilePath = os.path.join(cwd,'data/actualData/test_labels.csv')"
   ]
  },
  {
   "cell_type": "code",
   "execution_count": 472,
   "metadata": {},
   "outputs": [],
   "source": [
    "carData = pd.read_csv(labeldCsvFilePath)\n",
    "test_carData = pd.read_csv(test_labeldCsvFilePath)"
   ]
  },
  {
   "cell_type": "code",
   "execution_count": 473,
   "metadata": {},
   "outputs": [
    {
     "data": {
      "text/html": [
       "<div>\n",
       "<style scoped>\n",
       "    .dataframe tbody tr th:only-of-type {\n",
       "        vertical-align: middle;\n",
       "    }\n",
       "\n",
       "    .dataframe tbody tr th {\n",
       "        vertical-align: top;\n",
       "    }\n",
       "\n",
       "    .dataframe thead th {\n",
       "        text-align: right;\n",
       "    }\n",
       "</style>\n",
       "<table border=\"1\" class=\"dataframe\">\n",
       "  <thead>\n",
       "    <tr style=\"text-align: right;\">\n",
       "      <th></th>\n",
       "      <th>filename</th>\n",
       "      <th>width</th>\n",
       "      <th>height</th>\n",
       "      <th>class</th>\n",
       "      <th>xmin</th>\n",
       "      <th>ymin</th>\n",
       "      <th>xmax</th>\n",
       "      <th>ymax</th>\n",
       "    </tr>\n",
       "  </thead>\n",
       "  <tbody>\n",
       "    <tr>\n",
       "      <th>0</th>\n",
       "      <td>IMG-20180108-WA0021.jpg</td>\n",
       "      <td>1040</td>\n",
       "      <td>585</td>\n",
       "      <td>plate</td>\n",
       "      <td>478</td>\n",
       "      <td>111</td>\n",
       "      <td>495</td>\n",
       "      <td>119</td>\n",
       "    </tr>\n",
       "    <tr>\n",
       "      <th>1</th>\n",
       "      <td>IMG-20180108-WA0021.jpg</td>\n",
       "      <td>1040</td>\n",
       "      <td>585</td>\n",
       "      <td>plate</td>\n",
       "      <td>532</td>\n",
       "      <td>119</td>\n",
       "      <td>548</td>\n",
       "      <td>127</td>\n",
       "    </tr>\n",
       "    <tr>\n",
       "      <th>2</th>\n",
       "      <td>IMG-20180108-WA0021.jpg</td>\n",
       "      <td>1040</td>\n",
       "      <td>585</td>\n",
       "      <td>plate</td>\n",
       "      <td>548</td>\n",
       "      <td>117</td>\n",
       "      <td>560</td>\n",
       "      <td>123</td>\n",
       "    </tr>\n",
       "    <tr>\n",
       "      <th>3</th>\n",
       "      <td>IMG-20180108-WA0021.jpg</td>\n",
       "      <td>1040</td>\n",
       "      <td>585</td>\n",
       "      <td>plate</td>\n",
       "      <td>437</td>\n",
       "      <td>151</td>\n",
       "      <td>465</td>\n",
       "      <td>161</td>\n",
       "    </tr>\n",
       "    <tr>\n",
       "      <th>4</th>\n",
       "      <td>IMG-20180108-WA0021.jpg</td>\n",
       "      <td>1040</td>\n",
       "      <td>585</td>\n",
       "      <td>plate</td>\n",
       "      <td>725</td>\n",
       "      <td>112</td>\n",
       "      <td>737</td>\n",
       "      <td>116</td>\n",
       "    </tr>\n",
       "  </tbody>\n",
       "</table>\n",
       "</div>"
      ],
      "text/plain": [
       "                  filename  width  height  class  xmin  ymin  xmax  ymax\n",
       "0  IMG-20180108-WA0021.jpg   1040     585  plate   478   111   495   119\n",
       "1  IMG-20180108-WA0021.jpg   1040     585  plate   532   119   548   127\n",
       "2  IMG-20180108-WA0021.jpg   1040     585  plate   548   117   560   123\n",
       "3  IMG-20180108-WA0021.jpg   1040     585  plate   437   151   465   161\n",
       "4  IMG-20180108-WA0021.jpg   1040     585  plate   725   112   737   116"
      ]
     },
     "execution_count": 473,
     "metadata": {},
     "output_type": "execute_result"
    }
   ],
   "source": [
    "carData.head()"
   ]
  },
  {
   "cell_type": "code",
   "execution_count": 474,
   "metadata": {},
   "outputs": [],
   "source": [
    "image_size = 128\n",
    "channel = 3"
   ]
  },
  {
   "cell_type": "code",
   "execution_count": 475,
   "metadata": {},
   "outputs": [],
   "source": [
    "X_train = []\n",
    "y_train = np.zeros((len(carData),4))\n",
    "def extractImages():\n",
    "    for index,row in carData.iterrows():\n",
    "        name = row[0]\n",
    "        x1 = int(row[4])\n",
    "        y1 = int(row[5])\n",
    "        x2 = int(row[6])\n",
    "        y2 = int(row[7])\n",
    "        path = os.path.join(os.path.join(cwd,imageFolderPath),name)\n",
    "        img = cv2.imread(path)\n",
    "        width = img.shape[1]\n",
    "        height = img.shape[0]\n",
    "        \n",
    "        y_train[index,0] = x1* image_size/width\n",
    "        y_train[index,1] = y1* image_size/height\n",
    "        y_train[index,2] = (x2-x1)* image_size/width\n",
    "        y_train[index,3] = (y2-y1)* image_size/height\n",
    "        X_train.append(path)"
   ]
  },
  {
   "cell_type": "code",
   "execution_count": 476,
   "metadata": {},
   "outputs": [],
   "source": [
    "extractImages()"
   ]
  },
  {
   "cell_type": "code",
   "execution_count": 477,
   "metadata": {},
   "outputs": [
    {
     "data": {
      "text/plain": [
       "['/Users/developementkaha/Documents/Backup_office/Projects/ML/Personal_Practice/TextRecognization/data/actualData/images/train/IMG-20180108-WA0021.jpg',\n",
       " '/Users/developementkaha/Documents/Backup_office/Projects/ML/Personal_Practice/TextRecognization/data/actualData/images/train/IMG-20180108-WA0021.jpg',\n",
       " '/Users/developementkaha/Documents/Backup_office/Projects/ML/Personal_Practice/TextRecognization/data/actualData/images/train/IMG-20180108-WA0021.jpg',\n",
       " '/Users/developementkaha/Documents/Backup_office/Projects/ML/Personal_Practice/TextRecognization/data/actualData/images/train/IMG-20180108-WA0021.jpg',\n",
       " '/Users/developementkaha/Documents/Backup_office/Projects/ML/Personal_Practice/TextRecognization/data/actualData/images/train/IMG-20180108-WA0021.jpg']"
      ]
     },
     "execution_count": 477,
     "metadata": {},
     "output_type": "execute_result"
    }
   ],
   "source": [
    "X_train[:5]"
   ]
  },
  {
   "cell_type": "code",
   "execution_count": 478,
   "metadata": {},
   "outputs": [
    {
     "name": "stdout",
     "output_type": "stream",
     "text": [
      "/Users/developementkaha/Documents/Backup_office/Projects/ML/Personal_Practice/TextRecognization/data/actualData/images/train/186.E 6173 IM-11-18.jpeg\n",
      "[  0.34224599   0.8590604  127.65775401 126.28187919]\n"
     ]
    },
    {
     "data": {
      "text/plain": [
       "<matplotlib.patches.Rectangle at 0x7fd1d8d1ae50>"
      ]
     },
     "execution_count": 478,
     "metadata": {},
     "output_type": "execute_result"
    },
    {
     "data": {
      "image/png": "[encoded data removed]",
      "text/plain": [
       "<Figure size 432x288 with 1 Axes>"
      ]
     },
     "metadata": {
      "needs_background": "light"
     },
     "output_type": "display_data"
    }
   ],
   "source": [
    "path = X_train[100]\n",
    "print(path)\n",
    "regions = y_train[100]\n",
    "print(regions)\n",
    "img = cv2.imread(path)\n",
    "image_height,image_width,_ = img.shape\n",
    "\n",
    "x1 = int(regions[0] * image_width/image_size)\n",
    "y1 = int(regions[1] * image_height/image_size)\n",
    "\n",
    "x2= int((regions[0] + regions[2])  * image_width/image_size)\n",
    "y2 = int((regions[1] + regions[3]) * image_height/image_size)\n",
    "\n",
    "fig, ax = plt.subplots(1)\n",
    "ax.imshow(img)\n",
    "rect = patches.Rectangle((x1,y1),x2-x1,y2-y1,edgecolor='r',facecolor='none',linestyle='-', linewidth=2)\n",
    "ax.add_patch(rect)"
   ]
  },
  {
   "cell_type": "code",
   "execution_count": 479,
   "metadata": {},
   "outputs": [],
   "source": [
    "## Prepare testing data"
   ]
  },
  {
   "cell_type": "code",
   "execution_count": 480,
   "metadata": {},
   "outputs": [],
   "source": [
    "X_test = []\n",
    "y_test = np.zeros((len(test_carData),4))\n",
    "def test_extractImages():\n",
    "    for index,row in test_carData.iterrows():\n",
    "        name = row[0]\n",
    "        x1 = int(row[4])\n",
    "        y1 = int(row[5])\n",
    "        x2 = int(row[6])\n",
    "        y2 = int(row[7])\n",
    "        path = os.path.join(os.path.join(cwd,test_imageFolderPath),name)\n",
    "        img = cv2.imread(path)\n",
    "        width = img.shape[1]\n",
    "        height = img.shape[0]\n",
    "        \n",
    "        y_test[index,0] = x1* image_size/width\n",
    "        y_test[index,1] = y1* image_size/height\n",
    "        y_test[index,2] = (x2-x1)* image_size/width\n",
    "        y_test[index,3] = (y2-y1)* image_size/height\n",
    "        X_test.append(path)"
   ]
  },
  {
   "cell_type": "code",
   "execution_count": 481,
   "metadata": {},
   "outputs": [],
   "source": [
    "test_extractImages()"
   ]
  },
  {
   "cell_type": "code",
   "execution_count": 482,
   "metadata": {},
   "outputs": [],
   "source": [
    "from tensorflow.keras.applications.mobilenet import MobileNet\n",
    "from tensorflow.keras.applications.mobilenet import preprocess_input\n",
    "# from tensorflow.keras.applications.resnet_v2 import ResNet152V2\n",
    "# from tensorflow.keras.applications.resnet_v2 import preprocess_input\n",
    "from PIL import Image\n",
    "from tensorflow.keras.layers import Dense,Reshape,Conv2D,Flatten\n",
    "from tensorflow.keras.models import Model\n",
    "from tensorflow.keras.callbacks import EarlyStopping\n",
    "from tensorflow import py_function\n",
    "import tensorflow "
   ]
  },
  {
   "cell_type": "code",
   "execution_count": 483,
   "metadata": {},
   "outputs": [],
   "source": [
    "for i,f in enumerate(X_train):\n",
    "    img = Image.open(f)\n",
    "    img = img.resize((image_size, image_size)) # Resize image\n",
    "    img = img.convert('RGB')\n",
    "\n",
    "    X_train[i] = preprocess_input(np.array(img, dtype=np.float32)) # Convert to float32 array\n",
    "    img.close()"
   ]
  },
  {
   "cell_type": "code",
   "execution_count": 484,
   "metadata": {},
   "outputs": [],
   "source": [
    "X_train = np.array(X_train)"
   ]
  },
  {
   "cell_type": "code",
   "execution_count": 485,
   "metadata": {},
   "outputs": [],
   "source": [
    "for i,f in enumerate(X_test):\n",
    "    img = Image.open(f)\n",
    "    img = img.resize((image_size, image_size)) # Resize image\n",
    "    img = img.convert('RGB')\n",
    "\n",
    "    X_test[i] = preprocess_input(np.array(img, dtype=np.float32)) # Convert to float32 array\n",
    "    img.close()\n",
    "\n",
    "X_test = np.array(X_test)"
   ]
  },
  {
   "cell_type": "code",
   "execution_count": 486,
   "metadata": {},
   "outputs": [
    {
     "data": {
      "text/plain": [
       "((60, 128, 128, 3), (60, 4))"
      ]
     },
     "execution_count": 486,
     "metadata": {},
     "output_type": "execute_result"
    }
   ],
   "source": [
    "X_test.shape,y_test.shape"
   ]
  },
  {
   "cell_type": "code",
   "execution_count": 487,
   "metadata": {},
   "outputs": [],
   "source": [
    "## Build model"
   ]
  },
  {
   "cell_type": "code",
   "execution_count": 488,
   "metadata": {},
   "outputs": [],
   "source": [
    "def createModel(trainBaseModel=True):\n",
    "    inputShape = (image_size,image_size,channel)\n",
    "    alpha = 1.0\n",
    "#     basemodel = ResNet152V2(input_shape=inputShape,include_top=False,weights='imagenet')\n",
    "    basemodel = MobileNet(input_shape=inputShape,include_top=False,alpha=alpha)\n",
    "#     \n",
    "    for layer in basemodel.layers:\n",
    "        layer.trainable = trainBaseModel\n",
    "    \n",
    "    basemodel_output = basemodel.layers[-1].output\n",
    "#     basemodel.summary()\n",
    "    x1 = Conv2D(4, kernel_size=4, name=\"coords\")(basemodel_output)\n",
    "#     # In the line above kernel size should be 3 for img size 96, 4 for img size 128, 5 for img size 160 etc.\n",
    "    output = Reshape((4,))(x1)\n",
    "#     flat = Flatten()(x1)\n",
    "#     dense = Dense(1024,activation='linear',name='MJ_1_layer')(flat)\n",
    "#     output = Dense(4,activation='linear',name='output')(flat)\n",
    "    return Model(inputs=basemodel.input, outputs=output)"
   ]
  },
  {
   "cell_type": "code",
   "execution_count": 489,
   "metadata": {},
   "outputs": [],
   "source": [
    "model = createModel(False)"
   ]
  },
  {
   "cell_type": "code",
   "execution_count": 490,
   "metadata": {},
   "outputs": [
    {
     "name": "stdout",
     "output_type": "stream",
     "text": [
      "Model: \"model_7\"\n",
      "_________________________________________________________________\n",
      "Layer (type)                 Output Shape              Param #   \n",
      "=================================================================\n",
      "input_11 (InputLayer)        [(None, 128, 128, 3)]     0         \n",
      "_________________________________________________________________\n",
      "conv1_pad (ZeroPadding2D)    (None, 129, 129, 3)       0         \n",
      "_________________________________________________________________\n",
      "conv1 (Conv2D)               (None, 64, 64, 32)        864       \n",
      "_________________________________________________________________\n",
      "conv1_bn (BatchNormalization (None, 64, 64, 32)        128       \n",
      "_________________________________________________________________\n",
      "conv1_relu (ReLU)            (None, 64, 64, 32)        0         \n",
      "_________________________________________________________________\n",
      "conv_dw_1 (DepthwiseConv2D)  (None, 64, 64, 32)        288       \n",
      "_________________________________________________________________\n",
      "conv_dw_1_bn (BatchNormaliza (None, 64, 64, 32)        128       \n",
      "_________________________________________________________________\n",
      "conv_dw_1_relu (ReLU)        (None, 64, 64, 32)        0         \n",
      "_________________________________________________________________\n",
      "conv_pw_1 (Conv2D)           (None, 64, 64, 64)        2048      \n",
      "_________________________________________________________________\n",
      "conv_pw_1_bn (BatchNormaliza (None, 64, 64, 64)        256       \n",
      "_________________________________________________________________\n",
      "conv_pw_1_relu (ReLU)        (None, 64, 64, 64)        0         \n",
      "_________________________________________________________________\n",
      "conv_pad_2 (ZeroPadding2D)   (None, 65, 65, 64)        0         \n",
      "_________________________________________________________________\n",
      "conv_dw_2 (DepthwiseConv2D)  (None, 32, 32, 64)        576       \n",
      "_________________________________________________________________\n",
      "conv_dw_2_bn (BatchNormaliza (None, 32, 32, 64)        256       \n",
      "_________________________________________________________________\n",
      "conv_dw_2_relu (ReLU)        (None, 32, 32, 64)        0         \n",
      "_________________________________________________________________\n",
      "conv_pw_2 (Conv2D)           (None, 32, 32, 128)       8192      \n",
      "_________________________________________________________________\n",
      "conv_pw_2_bn (BatchNormaliza (None, 32, 32, 128)       512       \n",
      "_________________________________________________________________\n",
      "conv_pw_2_relu (ReLU)        (None, 32, 32, 128)       0         \n",
      "_________________________________________________________________\n",
      "conv_dw_3 (DepthwiseConv2D)  (None, 32, 32, 128)       1152      \n",
      "_________________________________________________________________\n",
      "conv_dw_3_bn (BatchNormaliza (None, 32, 32, 128)       512       \n",
      "_________________________________________________________________\n",
      "conv_dw_3_relu (ReLU)        (None, 32, 32, 128)       0         \n",
      "_________________________________________________________________\n",
      "conv_pw_3 (Conv2D)           (None, 32, 32, 128)       16384     \n",
      "_________________________________________________________________\n",
      "conv_pw_3_bn (BatchNormaliza (None, 32, 32, 128)       512       \n",
      "_________________________________________________________________\n",
      "conv_pw_3_relu (ReLU)        (None, 32, 32, 128)       0         \n",
      "_________________________________________________________________\n",
      "conv_pad_4 (ZeroPadding2D)   (None, 33, 33, 128)       0         \n",
      "_________________________________________________________________\n",
      "conv_dw_4 (DepthwiseConv2D)  (None, 16, 16, 128)       1152      \n",
      "_________________________________________________________________\n",
      "conv_dw_4_bn (BatchNormaliza (None, 16, 16, 128)       512       \n",
      "_________________________________________________________________\n",
      "conv_dw_4_relu (ReLU)        (None, 16, 16, 128)       0         \n",
      "_________________________________________________________________\n",
      "conv_pw_4 (Conv2D)           (None, 16, 16, 256)       32768     \n",
      "_________________________________________________________________\n",
      "conv_pw_4_bn (BatchNormaliza (None, 16, 16, 256)       1024      \n",
      "_________________________________________________________________\n",
      "conv_pw_4_relu (ReLU)        (None, 16, 16, 256)       0         \n",
      "_________________________________________________________________\n",
      "conv_dw_5 (DepthwiseConv2D)  (None, 16, 16, 256)       2304      \n",
      "_________________________________________________________________\n",
      "conv_dw_5_bn (BatchNormaliza (None, 16, 16, 256)       1024      \n",
      "_________________________________________________________________\n",
      "conv_dw_5_relu (ReLU)        (None, 16, 16, 256)       0         \n",
      "_________________________________________________________________\n",
      "conv_pw_5 (Conv2D)           (None, 16, 16, 256)       65536     \n",
      "_________________________________________________________________\n",
      "conv_pw_5_bn (BatchNormaliza (None, 16, 16, 256)       1024      \n",
      "_________________________________________________________________\n",
      "conv_pw_5_relu (ReLU)        (None, 16, 16, 256)       0         \n",
      "_________________________________________________________________\n",
      "conv_pad_6 (ZeroPadding2D)   (None, 17, 17, 256)       0         \n",
      "_________________________________________________________________\n",
      "conv_dw_6 (DepthwiseConv2D)  (None, 8, 8, 256)         2304      \n",
      "_________________________________________________________________\n",
      "conv_dw_6_bn (BatchNormaliza (None, 8, 8, 256)         1024      \n",
      "_________________________________________________________________\n",
      "conv_dw_6_relu (ReLU)        (None, 8, 8, 256)         0         \n",
      "_________________________________________________________________\n",
      "conv_pw_6 (Conv2D)           (None, 8, 8, 512)         131072    \n",
      "_________________________________________________________________\n",
      "conv_pw_6_bn (BatchNormaliza (None, 8, 8, 512)         2048      \n",
      "_________________________________________________________________\n",
      "conv_pw_6_relu (ReLU)        (None, 8, 8, 512)         0         \n",
      "_________________________________________________________________\n",
      "conv_dw_7 (DepthwiseConv2D)  (None, 8, 8, 512)         4608      \n",
      "_________________________________________________________________\n",
      "conv_dw_7_bn (BatchNormaliza (None, 8, 8, 512)         2048      \n",
      "_________________________________________________________________\n",
      "conv_dw_7_relu (ReLU)        (None, 8, 8, 512)         0         \n",
      "_________________________________________________________________\n",
      "conv_pw_7 (Conv2D)           (None, 8, 8, 512)         262144    \n",
      "_________________________________________________________________\n",
      "conv_pw_7_bn (BatchNormaliza (None, 8, 8, 512)         2048      \n",
      "_________________________________________________________________\n",
      "conv_pw_7_relu (ReLU)        (None, 8, 8, 512)         0         \n",
      "_________________________________________________________________\n",
      "conv_dw_8 (DepthwiseConv2D)  (None, 8, 8, 512)         4608      \n",
      "_________________________________________________________________\n",
      "conv_dw_8_bn (BatchNormaliza (None, 8, 8, 512)         2048      \n",
      "_________________________________________________________________\n",
      "conv_dw_8_relu (ReLU)        (None, 8, 8, 512)         0         \n",
      "_________________________________________________________________\n",
      "conv_pw_8 (Conv2D)           (None, 8, 8, 512)         262144    \n",
      "_________________________________________________________________\n",
      "conv_pw_8_bn (BatchNormaliza (None, 8, 8, 512)         2048      \n",
      "_________________________________________________________________\n",
      "conv_pw_8_relu (ReLU)        (None, 8, 8, 512)         0         \n",
      "_________________________________________________________________\n",
      "conv_dw_9 (DepthwiseConv2D)  (None, 8, 8, 512)         4608      \n",
      "_________________________________________________________________\n",
      "conv_dw_9_bn (BatchNormaliza (None, 8, 8, 512)         2048      \n",
      "_________________________________________________________________\n",
      "conv_dw_9_relu (ReLU)        (None, 8, 8, 512)         0         \n",
      "_________________________________________________________________\n",
      "conv_pw_9 (Conv2D)           (None, 8, 8, 512)         262144    \n",
      "_________________________________________________________________\n",
      "conv_pw_9_bn (BatchNormaliza (None, 8, 8, 512)         2048      \n",
      "_________________________________________________________________\n",
      "conv_pw_9_relu (ReLU)        (None, 8, 8, 512)         0         \n",
      "_________________________________________________________________\n",
      "conv_dw_10 (DepthwiseConv2D) (None, 8, 8, 512)         4608      \n",
      "_________________________________________________________________\n",
      "conv_dw_10_bn (BatchNormaliz (None, 8, 8, 512)         2048      \n",
      "_________________________________________________________________\n",
      "conv_dw_10_relu (ReLU)       (None, 8, 8, 512)         0         \n",
      "_________________________________________________________________\n",
      "conv_pw_10 (Conv2D)          (None, 8, 8, 512)         262144    \n",
      "_________________________________________________________________\n",
      "conv_pw_10_bn (BatchNormaliz (None, 8, 8, 512)         2048      \n",
      "_________________________________________________________________\n",
      "conv_pw_10_relu (ReLU)       (None, 8, 8, 512)         0         \n",
      "_________________________________________________________________\n",
      "conv_dw_11 (DepthwiseConv2D) (None, 8, 8, 512)         4608      \n",
      "_________________________________________________________________\n",
      "conv_dw_11_bn (BatchNormaliz (None, 8, 8, 512)         2048      \n",
      "_________________________________________________________________\n",
      "conv_dw_11_relu (ReLU)       (None, 8, 8, 512)         0         \n",
      "_________________________________________________________________\n",
      "conv_pw_11 (Conv2D)          (None, 8, 8, 512)         262144    \n",
      "_________________________________________________________________\n",
      "conv_pw_11_bn (BatchNormaliz (None, 8, 8, 512)         2048      \n",
      "_________________________________________________________________\n",
      "conv_pw_11_relu (ReLU)       (None, 8, 8, 512)         0         \n",
      "_________________________________________________________________\n",
      "conv_pad_12 (ZeroPadding2D)  (None, 9, 9, 512)         0         \n",
      "_________________________________________________________________\n",
      "conv_dw_12 (DepthwiseConv2D) (None, 4, 4, 512)         4608      \n",
      "_________________________________________________________________\n",
      "conv_dw_12_bn (BatchNormaliz (None, 4, 4, 512)         2048      \n",
      "_________________________________________________________________\n",
      "conv_dw_12_relu (ReLU)       (None, 4, 4, 512)         0         \n",
      "_________________________________________________________________\n",
      "conv_pw_12 (Conv2D)          (None, 4, 4, 1024)        524288    \n",
      "_________________________________________________________________\n",
      "conv_pw_12_bn (BatchNormaliz (None, 4, 4, 1024)        4096      \n",
      "_________________________________________________________________\n",
      "conv_pw_12_relu (ReLU)       (None, 4, 4, 1024)        0         \n",
      "_________________________________________________________________\n",
      "conv_dw_13 (DepthwiseConv2D) (None, 4, 4, 1024)        9216      \n",
      "_________________________________________________________________\n",
      "conv_dw_13_bn (BatchNormaliz (None, 4, 4, 1024)        4096      \n",
      "_________________________________________________________________\n",
      "conv_dw_13_relu (ReLU)       (None, 4, 4, 1024)        0         \n",
      "_________________________________________________________________\n",
      "conv_pw_13 (Conv2D)          (None, 4, 4, 1024)        1048576   \n",
      "_________________________________________________________________\n",
      "conv_pw_13_bn (BatchNormaliz (None, 4, 4, 1024)        4096      \n",
      "_________________________________________________________________\n",
      "conv_pw_13_relu (ReLU)       (None, 4, 4, 1024)        0         \n",
      "_________________________________________________________________\n",
      "coords (Conv2D)              (None, 1, 1, 4)           65540     \n",
      "_________________________________________________________________\n",
      "reshape_4 (Reshape)          (None, 4)                 0         \n",
      "=================================================================\n",
      "Total params: 3,294,404\n",
      "Trainable params: 65,540\n",
      "Non-trainable params: 3,228,864\n",
      "_________________________________________________________________\n"
     ]
    }
   ],
   "source": [
    "model.summary()"
   ]
  },
  {
   "cell_type": "code",
   "execution_count": 491,
   "metadata": {},
   "outputs": [],
   "source": [
    "def IOU(y_true, y_pred):\n",
    "    intersections = 0\n",
    "    unions = 0\n",
    "    # set the types so we are sure what type we are using\n",
    "\n",
    "    gt = y_true\n",
    "    pred = y_pred\n",
    "    # Compute interection of predicted (pred) and ground truth (gt) bounding boxes\n",
    "    diff_width = np.minimum(gt[:,0] + gt[:,2], pred[:,0] + pred[:,2]) - np.maximum(gt[:,0], pred[:,0])\n",
    "    diff_height = np.minimum(gt[:,1] + gt[:,3], pred[:,1] + pred[:,3]) - np.maximum(gt[:,1], pred[:,1])\n",
    "    intersection = diff_width * diff_height\n",
    "\n",
    "    # Compute union\n",
    "    area_gt = gt[:,2] * gt[:,3]\n",
    "    area_pred = pred[:,2] * pred[:,3]\n",
    "    union = area_gt + area_pred - intersection\n",
    "\n",
    "    # Compute intersection and union over multiple boxes\n",
    "    for j, _ in enumerate(union):\n",
    "        if union[j] > 0 and intersection[j] > 0 and union[j] >= intersection[j]:\n",
    "            intersections += intersection[j]\n",
    "            unions += union[j]\n",
    "\n",
    "    # Compute IOU. Use epsilon to prevent division by zero\n",
    "    iou = np.round(intersections / (unions + tensorflow.keras.backend.epsilon()), 4)\n",
    "    # This must match the type used in py_func\n",
    "    iou = iou.astype(np.float32)\n",
    "    return iou"
   ]
  },
  {
   "cell_type": "code",
   "execution_count": 492,
   "metadata": {},
   "outputs": [],
   "source": [
    "def IoU(y_true, y_pred):\n",
    "    iou = py_function(IOU, [y_true, y_pred], Tout=tensorflow.float32)\n",
    "    return iou"
   ]
  },
  {
   "cell_type": "code",
   "execution_count": 493,
   "metadata": {},
   "outputs": [],
   "source": [
    "model.compile(loss=\"mean_squared_error\", optimizer=\"adam\", metrics=[IoU]) # Regression loss is MSE"
   ]
  },
  {
   "cell_type": "code",
   "execution_count": 494,
   "metadata": {},
   "outputs": [
    {
     "name": "stdout",
     "output_type": "stream",
     "text": [
      "Epoch 1/10\n",
      "21/21 [==============================] - 11s 542ms/step - loss: 1644.4122 - IoU: 0.3800 - val_loss: 451.8470 - val_IoU: 0.7163\n",
      "Epoch 2/10\n",
      "21/21 [==============================] - 10s 500ms/step - loss: 408.5561 - IoU: 0.7179 - val_loss: 389.5312 - val_IoU: 0.7625\n",
      "Epoch 3/10\n",
      "21/21 [==============================] - 11s 513ms/step - loss: 269.0307 - IoU: 0.7913 - val_loss: 341.3103 - val_IoU: 0.7880\n",
      "Epoch 4/10\n",
      "21/21 [==============================] - 13s 620ms/step - loss: 224.0456 - IoU: 0.8275 - val_loss: 336.7777 - val_IoU: 0.8093\n",
      "Epoch 5/10\n",
      "21/21 [==============================] - 12s 554ms/step - loss: 196.4053 - IoU: 0.8423 - val_loss: 356.4239 - val_IoU: 0.7915\n",
      "Epoch 6/10\n",
      "21/21 [==============================] - 12s 548ms/step - loss: 183.4088 - IoU: 0.8432 - val_loss: 389.4782 - val_IoU: 0.8113\n"
     ]
    },
    {
     "data": {
      "text/plain": [
       "<tensorflow.python.keras.callbacks.History at 0x7fd1d8c7e950>"
      ]
     },
     "execution_count": 494,
     "metadata": {},
     "output_type": "execute_result"
    }
   ],
   "source": [
    "# Use earlystopping\n",
    "callback = EarlyStopping(monitor='val_IoU', patience=5, min_delta=0.01)\n",
    "\n",
    "# Fit the model\n",
    "model.fit(X_train,y_train, validation_data=(X_test,y_test), epochs=10, batch_size=32, callbacks=[callback])"
   ]
  },
  {
   "cell_type": "code",
   "execution_count": 495,
   "metadata": {},
   "outputs": [
    {
     "name": "stdout",
     "output_type": "stream",
     "text": [
      "2/2 [==============================] - 0s 217ms/step - loss: 389.4782 - IoU: 0.8113\n"
     ]
    },
    {
     "data": {
      "text/plain": [
       "[389.4782409667969, 0.8113499879837036]"
      ]
     },
     "execution_count": 495,
     "metadata": {},
     "output_type": "execute_result"
    }
   ],
   "source": [
    "model.evaluate(X_test,y_test)"
   ]
  },
  {
   "cell_type": "code",
   "execution_count": 496,
   "metadata": {},
   "outputs": [],
   "source": [
    "# Test model"
   ]
  },
  {
   "cell_type": "code",
   "execution_count": 775,
   "metadata": {},
   "outputs": [],
   "source": [
    "import pytesseract"
   ]
  },
  {
   "cell_type": "code",
   "execution_count": 832,
   "metadata": {},
   "outputs": [],
   "source": [
    "def preditction(imagename):\n",
    "    cwd = os.getcwd()\n",
    "#     print(cwd)\n",
    "    imageFolderPath = 'Car_number_plate'\n",
    "\n",
    "    filepath = os.path.join(os.path.join(cwd,imageFolderPath),imagename)\n",
    "#     print(filepath)\n",
    "\n",
    "    unscaled = cv2.imread(filepath)\n",
    "    image_height, image_width, _ = unscaled.shape\n",
    "    image = cv2.resize(unscaled, (image_size, image_size)) # Rescaled image to run the network\n",
    "    feat_scaled = preprocess_input(np.array(image, dtype=np.float32))\n",
    "#     print (\"Size of original input: \", image.shape)\n",
    "#     print(\"-------------------------------\")\n",
    "#     print(\"Size of scaled input: \", feat_scaled.shape)\n",
    "\n",
    "    region = model.predict(x=np.array([feat_scaled]))[0]\n",
    "\n",
    "    print(region)\n",
    "\n",
    "    x1 = int(region[0] * image_width/image_size)\n",
    "    y1 = int(region[1] * image_height/image_size)\n",
    "\n",
    "    x2= int((region[0] + region[2])  * image_width/image_size)\n",
    "    y2 = int((region[1] + region[3]) * image_height/image_size)\n",
    "\n",
    "    fig, ax = plt.subplots(1)\n",
    "    ax.imshow(unscaled)\n",
    "    rect = patches.Rectangle((x1,y1),x2-x1,y2-y1,edgecolor='r',facecolor='none',linestyle='-', linewidth=2)\n",
    "    ax.add_patch(rect)\n",
    "\n",
    "\n",
    "    x1, y1, x2,y2\n",
    "\n",
    "    img_cv = cv2.cvtColor(unscaled, cv2.COLOR_BGR2RGB)\n",
    "    r = unscaled[y1:y2,x1:x2]\n",
    "    plt.imshow(r)\n",
    "\n",
    "    conf = f'--oem 3 --psm 9 outputbase alphanumeric'\n",
    "    # print(conf)\n",
    "    configuration = (conf)\n",
    "    text = pytesseract.image_to_string(r, config=configuration)\n",
    "    print('Detected text: '+text)\n",
    "#     print('done')"
   ]
  },
  {
   "cell_type": "code",
   "execution_count": 833,
   "metadata": {},
   "outputs": [
    {
     "name": "stdout",
     "output_type": "stream",
     "text": [
      "[24.13946  22.928036 80.67579  78.191826]\n",
      "Detected text: _\n"
     ]
    },
    {
     "data": {
      "image/png": "[encoded data removed]",
      "text/plain": [
       "<Figure size 432x288 with 1 Axes>"
      ]
     },
     "metadata": {
      "needs_background": "light"
     },
     "output_type": "display_data"
    }
   ],
   "source": [
    "preditction('images_34.jpg')"
   ]
  },
  {
   "cell_type": "code",
   "execution_count": 824,
   "metadata": {},
   "outputs": [],
   "source": [
    "# text = pytesseract.image_to_string(unscaled, config=configuration)"
   ]
  },
  {
   "cell_type": "code",
   "execution_count": 634,
   "metadata": {
    "scrolled": true
   },
   "outputs": [
    {
     "data": {
      "text/plain": [
       "'?mlm:'"
      ]
     },
     "execution_count": 634,
     "metadata": {},
     "output_type": "execute_result"
    }
   ],
   "source": [
    "# text"
   ]
  },
  {
   "cell_type": "code",
   "execution_count": 605,
   "metadata": {},
   "outputs": [],
   "source": [
    "# model.save('numberPlate_textRecog.h5')\n",
    "# model.save_weights('numberPlate_textRecog_weights.h5')"
   ]
  },
  {
   "cell_type": "code",
   "execution_count": null,
   "metadata": {},
   "outputs": [],
   "source": []
  }
 ],
 "metadata": {
  "kernelspec": {
   "display_name": "Python 3",
   "language": "python",
   "name": "python3"
  },
  "language_info": {
   "codemirror_mode": {
    "name": "ipython",
    "version": 3
   },
   "file_extension": ".py",
   "mimetype": "text/x-python",
   "name": "python",
   "nbconvert_exporter": "python",
   "pygments_lexer": "ipython3",
   "version": "3.7.6"
  }
 },
 "nbformat": 4,
 "nbformat_minor": 4
}
